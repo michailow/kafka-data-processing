{
 "cells": [
  {
   "cell_type": "markdown",
   "metadata": {},
   "source": [
    "## Exploring twitter API"
   ]
  },
  {
   "cell_type": "code",
   "execution_count": 1,
   "metadata": {},
   "outputs": [],
   "source": [
    "import tweepy\n",
    "from dotenv import load_dotenv\n",
    "import os"
   ]
  },
  {
   "cell_type": "code",
   "execution_count": 2,
   "metadata": {},
   "outputs": [],
   "source": [
    "consumer_key = os.getenv('CONSUMERTOKEN')\n",
    "consumer_secret = os.getenv('CONSUMERSECRET')"
   ]
  },
  {
   "cell_type": "code",
   "execution_count": 3,
   "metadata": {},
   "outputs": [],
   "source": [
    "access_token = os.getenv('TOKEN')\n",
    "access_token_secret = os.getenv('SECRETTOKEN')"
   ]
  },
  {
   "cell_type": "code",
   "execution_count": 4,
   "metadata": {},
   "outputs": [
    {
     "name": "stdout",
     "output_type": "stream",
     "text": [
      "We asked New York Times readers to share their most treasured family heirlooms. Here are 12 of their most memorable… https://t.co/eNft7Ov6px\n",
      "The pandemic boom that sent prices into the stratosphere is running out of steam, and house prices are now falling… https://t.co/Bxa3XtG51f\n",
      "The people have spoken.\n",
      "\n",
      "Amnesty begins next week.\n",
      "\n",
      "Vox Populi, Vox Dei.\n",
      "Shoppers are expected to cut back on gift giving this holiday season amid high inflation https://t.co/I61L8ZsfEi https://t.co/XBOudzlV98\n",
      "@Snoopy @nasahqphoto @NASAArtemis @NASA_Orion See today's full gallery #AstronautSnoopy images from @nasahqphoto he… https://t.co/ZPSjKreYk0\n",
      "Spot the Snoopy! Not only is the beagle explorer floating in the Macy's Thanksgiving parade, he's also the zero-gra… https://t.co/cvnHR51w21\n",
      "The European Space Agency has announced a new class of trainee astronauts, including the first \"parastronaut,\" who… https://t.co/MQislXCdMx\n",
      "Why do certain foods give us so much pleasure? And what can be said about the kinds of foods we consider most comfo… https://t.co/fMPYNdHZHr\n",
      "A record number of women will be elected to Congress this year, CNN projects – but barely. https://t.co/4gKPESvd6S\n",
      "Brazil 🇧🇷 and Serbia 🇷🇸 will face off in their opening match at the #FIFAWorldCup in Qatar.\n",
      "\n",
      "Follow our updates.\n",
      "https://t.co/xDXLfnSRos\n",
      "The most appreciated gifts aren’t the trendiest ones — they’re the ones that last forever. These are @wirecutter pi… https://t.co/X751HfveEv\n",
      "Mortgage rates dropped again this week, after plunging nearly half a percentage point last week https://t.co/mrPddwNzvZ\n",
      "French lawmakers backed a proposal to enshrine abortion rights in the Constitution, in a move devised as a direct r… https://t.co/lrFVeOAarn\n",
      "The designers behind the world's skinniest skyscraper have just given fans of ultra-luxury living an early Christma… https://t.co/O0mCjbMF1l\n",
      "Fans poured into Stadium 974 in Qatar to cheer Cristiano Ronaldo and the Portugal team he has led for a generation.… https://t.co/rvSnVgWhX7\n",
      "RT @TheAthleticFC: A thread of the goals in #PORGHA 🧵 https://t.co/BLy8OL3pOe\n",
      "You can restore your baking sheets’ shine with a fair amount of hard scrubbing. But there’s good news: Your dingy b… https://t.co/L8bpN3EiQX\n",
      "Project Dynamo founder Bryan Stern explains how the organization united parents with their infant children who were… https://t.co/3UVelL3bsS\n",
      "Cristiano Ronaldo makes history as the first man to score in five World Cups https://t.co/uX4bHa14Ws https://t.co/2uRoKIB7cj\n",
      "From @TheAthleticFC: Neymar is the most expensive footballer in history. Lionel Messi says he is “unbeatable”, “a p… https://t.co/nNl5mpoh3y\n"
     ]
    }
   ],
   "source": [
    "auth = tweepy.OAuthHandler(consumer_key, consumer_secret)\n",
    "auth.set_access_token(access_token, access_token_secret)\n",
    "\n",
    "api = tweepy.API(auth)\n",
    "\n",
    "public_tweets = api.home_timeline()\n",
    "for tweet in public_tweets:\n",
    "    print(tweet.text)"
   ]
  },
  {
   "cell_type": "code",
   "execution_count": 5,
   "metadata": {},
   "outputs": [],
   "source": [
    "userID = \"elonmusk\""
   ]
  },
  {
   "cell_type": "code",
   "execution_count": 6,
   "metadata": {},
   "outputs": [],
   "source": [
    "tweets = api.user_timeline(screen_name=userID, \n",
    "                           # 200 is the maximum allowed count\n",
    "                           count=200,\n",
    "                           include_rts = False,\n",
    "                           # Necessary to keep full_text \n",
    "                           # otherwise only the first 140 words are extracted\n",
    "                           tweet_mode = 'extended'\n",
    "                           )"
   ]
  },
  {
   "cell_type": "code",
   "execution_count": 7,
   "metadata": {},
   "outputs": [
    {
     "name": "stdout",
     "output_type": "stream",
     "text": [
      "2022-11-24 19:58:39+00:00\n",
      "The people have spoken.\n",
      "\n",
      "Amnesty begins next week.\n",
      "\n",
      "Vox Populi, Vox Dei.\n",
      "\n",
      "\n",
      "2022-11-24 07:42:00+00:00\n",
      "You might notice small, sometimes major, improvements in speed of Twitter. Will be especially significant in countries far away from USA.\n",
      "\n",
      "\n",
      "2022-11-24 07:34:46+00:00\n",
      "Tesla Full Self-Driving Beta is now available to anyone in North America who requests it from the car screen, assuming you have bought this option. \n",
      "\n",
      "Congrats to Tesla Autopilot/AI team on achieving a major milestone!\n",
      "\n",
      "\n",
      "2022-11-24 06:59:57+00:00\n",
      "@TomFitton That’s the general idea\n",
      "\n",
      "\n",
      "2022-11-24 06:50:56+00:00\n",
      "@ramzpaul Removing child exploitation is priority #1. Please reply in comments if you see anything that Twitter needs to address.\n",
      "\n",
      "\n"
     ]
    }
   ],
   "source": [
    "for info in tweets[:5]:\n",
    "    print(info.created_at)\n",
    "    print(info.full_text)\n",
    "    print(\"\\n\")"
   ]
  },
  {
   "cell_type": "code",
   "execution_count": null,
   "metadata": {},
   "outputs": [],
   "source": []
  }
 ],
 "metadata": {
  "kernelspec": {
   "display_name": "Python 3.9.7 64-bit",
   "language": "python",
   "name": "python3"
  },
  "language_info": {
   "codemirror_mode": {
    "name": "ipython",
    "version": 3
   },
   "file_extension": ".py",
   "mimetype": "text/x-python",
   "name": "python",
   "nbconvert_exporter": "python",
   "pygments_lexer": "ipython3",
   "version": "3.9.7"
  },
  "orig_nbformat": 4,
  "vscode": {
   "interpreter": {
    "hash": "11938c6bc6919ae2720b4d5011047913343b08a43b18698fd82dedb0d4417594"
   }
  }
 },
 "nbformat": 4,
 "nbformat_minor": 2
}
